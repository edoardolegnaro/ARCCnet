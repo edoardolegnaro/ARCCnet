{
 "cells": [
  {
   "cell_type": "code",
   "execution_count": 2,
   "metadata": {},
   "outputs": [],
   "source": [
    "from arccnet.models.fulldisk.YOLO import utilities as ut\n",
    "import os"
   ]
  },
  {
   "cell_type": "code",
   "execution_count": null,
   "metadata": {},
   "outputs": [],
   "source": [
    "data_folder = os.getenv(\"ARCAFF_DATA_FOLDER\", \"../../../data/\")\n",
    "dataset_folder = \"arccnet-fulldisk-dataset-v20240917\"\n",
    "df_name = \"fulldisk-detection-catalog-v20240917.parq\"\n",
    "\n",
    "local_path_root = os.path.join(data_folder, dataset_folder)\n",
    "YOLO_root_path = os.path.join(data_folder, \"YOLO_dataset\")"
   ]
  },
  {
   "cell_type": "code",
   "execution_count": null,
   "metadata": {},
   "outputs": [],
   "source": [
    "image_name = 'hmi.m_720s.20221019_000000_TAI.3.magnetogram.png'"
   ]
  }
 ],
 "metadata": {
  "kernelspec": {
   "display_name": "ARCAFF",
   "language": "python",
   "name": "python3"
  },
  "language_info": {
   "codemirror_mode": {
    "name": "ipython",
    "version": 3
   },
   "file_extension": ".py",
   "mimetype": "text/x-python",
   "name": "python",
   "nbconvert_exporter": "python",
   "pygments_lexer": "ipython3",
   "version": "3.10.14"
  }
 },
 "nbformat": 4,
 "nbformat_minor": 2
}
