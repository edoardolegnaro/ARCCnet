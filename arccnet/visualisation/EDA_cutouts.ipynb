{
 "cells": [
  {
   "cell_type": "code",
   "execution_count": 1,
   "metadata": {},
   "outputs": [],
   "source": [
    "from astropy.io import fits\n",
    "import numpy as np\n",
    "import pandas as pd\n",
    "import os\n",
    "\n",
    "from astropy.table import Table\n",
    "import matplotlib.pyplot as plt\n",
    "\n",
    "from arccnet.models import train_utils as ut_t\n",
    "from arccnet.visualisation import utilities as ut_v\n",
    "\n",
    "pd.set_option('display.max_columns', None)"
   ]
  },
  {
   "cell_type": "code",
   "execution_count": 2,
   "metadata": {},
   "outputs": [],
   "source": [
    "data_folder = os.getenv('ARCAFF_DATA_FOLDER', '../../../data/')\n",
    "dataset_folder = 'arccnet-cutout-dataset-v20240715'\n",
    "df_name = 'cutout-magnetic-catalog-v20240715.parq'\n",
    "\n",
    "tab = Table.read(os.path.join(data_folder, dataset_folder, df_name))\n",
    "df = pd.read_parquet(os.path.join(data_folder, dataset_folder, df_name))"
   ]
  },
  {
   "cell_type": "code",
   "execution_count": 3,
   "metadata": {},
   "outputs": [],
   "source": [
    "row = df[df['path_image_cutout_hmi'] == 'fits/20221109_235833_I-13140_HMI_COMBINED.fits']"
   ]
  },
  {
   "cell_type": "code",
   "execution_count": null,
   "metadata": {},
   "outputs": [],
   "source": [
    "idx = 86531\n",
    "row = df.iloc[idx]\n",
    "path = row['path_image_cutout_hmi'] if row['path_image_cutout_mdi']=='' else row['path_image_cutout_mdi']\n",
    "fits_file_path = os.path.join(data_folder, dataset_folder, path)\n",
    "with fits.open(fits_file_path) as img_fits:\n",
    "    data = np.array(img_fits[1].data, dtype=float)\n",
    "    plt.imshow(data, origin='lower', cmap = 'gray')\n",
    "    plt.title(row['magnetic_class'])\n",
    "    plt.show()"
   ]
  }
 ],
 "metadata": {
  "kernelspec": {
   "display_name": "ARCAFF",
   "language": "python",
   "name": "python3"
  },
  "language_info": {
   "codemirror_mode": {
    "name": "ipython",
    "version": 3
   },
   "file_extension": ".py",
   "mimetype": "text/x-python",
   "name": "python",
   "nbconvert_exporter": "python",
   "pygments_lexer": "ipython3",
   "version": "3.10.14"
  }
 },
 "nbformat": 4,
 "nbformat_minor": 2
}
