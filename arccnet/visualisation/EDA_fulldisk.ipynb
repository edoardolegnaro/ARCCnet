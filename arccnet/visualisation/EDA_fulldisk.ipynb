{
 "cells": [
  {
   "cell_type": "markdown",
   "metadata": {},
   "source": [
    "# Fulldisk Dataset"
   ]
  },
  {
   "cell_type": "code",
   "execution_count": 1,
   "metadata": {},
   "outputs": [],
   "source": [
    "from astropy.io import fits\n",
    "from astropy.coordinates import SkyCoord\n",
    "import numpy as np\n",
    "import pandas as pd\n",
    "from scipy.ndimage import rotate\n",
    "import os\n",
    "\n",
    "from astropy.table import Table\n",
    "from astropy.visualization.wcsaxes import WCSAxesSubplot\n",
    "import astropy.units as u\n",
    "\n",
    "import matplotlib.pyplot as plt\n",
    "from matplotlib.patches import Rectangle\n",
    "from IPython.display import Image\n",
    "from astropy.time import Time\n",
    "\n",
    "import plotly.graph_objects as go\n",
    "import sunpy.map\n",
    "from sunpy.coordinates import frames\n",
    "\n",
    "from arccnet.models import dataset_utils as ut_d\n",
    "from arccnet.visualisation import utils as ut_v\n",
    "from arccnet.models import labels\n",
    "\n",
    "from p_tqdm import p_map\n",
    "\n",
    "import seaborn as sns\n",
    "sns.set_style('darkgrid') \n",
    "\n",
    "pd.set_option('display.max_columns', None)"
   ]
  },
  {
   "cell_type": "code",
   "execution_count": 2,
   "metadata": {},
   "outputs": [],
   "source": [
    "data_folder = os.getenv('ARCAFF_DATA_FOLDER', '../../../data/')\n",
    "dataset_folder = 'arccnet-fulldisk-dataset-v20240917'\n",
    "df_name = 'fulldisk-detection-catalog-v20240917.parq'\n",
    "\n",
    "tab = Table.read(os.path.join(data_folder, dataset_folder, df_name))\n",
    "df = pd.read_parquet(os.path.join(data_folder, dataset_folder, df_name))\n",
    "df['time'] = df['datetime.jd1'] + df['datetime.jd2']\n",
    "times = Time(df['time'], format='jd')\n",
    "df['datetime'] = pd.to_datetime(times.iso)"
   ]
  },
  {
   "cell_type": "markdown",
   "metadata": {},
   "source": [
    "## Classes Counts"
   ]
  },
  {
   "cell_type": "code",
   "execution_count": null,
   "metadata": {},
   "outputs": [],
   "source": [
    "discarded_df = df[df['filtered'] == True]\n",
    "selected_df  = df[df['filtered'] == False]\n",
    "\n",
    "# Calculate the percentage of selected items and unique fulldisks\n",
    "selected_percentage = len(selected_df) / len(df) * 100\n",
    "unique_fulldisks_count = len(selected_df['path'].unique())\n",
    "unique_fulldisks_total = len(df['path'].unique())\n",
    "unique_fulldisks_percentage = unique_fulldisks_count / unique_fulldisks_total * 100\n",
    "\n",
    "# Print the formatted output\n",
    "print(f\"             Selected ARs: {len(selected_df)} out of {len(df)} \"\n",
    "      f\"({selected_percentage:.2f}%)\")\n",
    "print(f\"Selected Unique Fulldisks: {unique_fulldisks_count} out of {unique_fulldisks_total}  \"\n",
    "      f\"({unique_fulldisks_percentage:.2f}%)\")"
   ]
  },
  {
   "cell_type": "code",
   "execution_count": null,
   "metadata": {},
   "outputs": [],
   "source": [
    "discarded_counts = discarded_df['magnetic_class'].value_counts().sort_index()\n",
    "selected_counts = selected_df['magnetic_class'].value_counts().sort_index()\n",
    "\n",
    "all_classes = sorted(set(discarded_counts.index) | set(selected_counts.index))\n",
    "discarded_counts = discarded_counts.reindex(all_classes, fill_value=0)\n",
    "selected_counts = selected_counts.reindex(all_classes, fill_value=0)\n",
    "\n",
    "counts_df = pd.DataFrame({\n",
    "    'Selected': selected_counts,\n",
    "    'Discarded': discarded_counts\n",
    "}, index=all_classes)\n",
    "\n",
    "greek_labels = labels.convert_to_greek_label(all_classes)\n",
    "class_to_greek = dict(zip(all_classes, greek_labels))\n",
    "counts_df.index = counts_df.index.map(class_to_greek)\n",
    "\n",
    "counts_df['Total'] = counts_df['Selected'] + counts_df['Discarded']\n",
    "grand_total = counts_df['Total'].sum()\n",
    "counts_df['Selected_pct'] = counts_df['Selected'] / grand_total * 100\n",
    "counts_df['Discarded_pct'] = counts_df['Discarded'] / grand_total * 100\n",
    "counts_df['Total_pct'] = counts_df['Total'] / grand_total * 100\n",
    "\n",
    "counts_df['Selected_formatted'] = counts_df.apply(\n",
    "    lambda x: f\"{int(x['Selected'])} ({x['Selected_pct']:.2f}%)\", axis=1)\n",
    "counts_df['Discarded_formatted'] = counts_df.apply(\n",
    "    lambda x: f\"{int(x['Discarded'])} ({x['Discarded_pct']:.2f}%)\", axis=1)\n",
    "counts_df['Total_formatted'] = counts_df.apply(\n",
    "    lambda x: f\"{int(x['Total'])} ({x['Total_pct']:.2f}%)\", axis=1)\n",
    "\n",
    "formatted_counts_df = counts_df[['Selected_formatted', 'Discarded_formatted', 'Total_formatted']]\n",
    "formatted_counts_df.columns = ['Selected', 'Discarded', 'Total']\n",
    "\n",
    "formatted_counts_df"
   ]
  },
  {
   "cell_type": "code",
   "execution_count": null,
   "metadata": {},
   "outputs": [],
   "source": [
    "ut_v.make_classes_histogram(\n",
    "    selected_df['magnetic_class'], \n",
    "    y_off=20, figsz=(10, 5), title='FullDisk Dataset (non-filtered)', ylim = 3400, bar_color='#1f77b4')"
   ]
  },
  {
   "cell_type": "markdown",
   "metadata": {},
   "source": [
    "## Time Distribution"
   ]
  },
  {
   "cell_type": "code",
   "execution_count": null,
   "metadata": {},
   "outputs": [],
   "source": [
    "fig = go.Figure()\n",
    "\n",
    "fig.add_trace(go.Scatter(\n",
    "    x=selected_df[selected_df['instrument'] == 'MDI']['datetime'],\n",
    "    y=[1] * len(selected_df[selected_df['instrument'] == 'MDI']),  # Assign a fixed y-value to bring them closer\n",
    "    mode='markers',\n",
    "    name='MDI',\n",
    "    marker=dict(color='blue')\n",
    "))\n",
    "\n",
    "fig.add_trace(go.Scatter(\n",
    "    x=selected_df[selected_df['instrument'] == 'HMI']['datetime'],\n",
    "    y=[1.1] * len(selected_df[selected_df['instrument'] == 'HMI']),  # Slightly higher y-value, to separate them\n",
    "    mode='markers',\n",
    "    name='HMI',\n",
    "    marker=dict(color='red')\n",
    "))\n",
    "\n",
    "fig.update_layout(\n",
    "    title='Images over Time',\n",
    "    xaxis_title='Date',\n",
    "    yaxis_title='Instrument',\n",
    "    yaxis=dict(\n",
    "        tickvals=[1, 1.1],\n",
    "        ticktext=['MDI', 'HMI'],\n",
    "        range=[0.95, 1.15],  # Adjust the range to make them closer\n",
    "        showgrid=False\n",
    "    ),\n",
    "    showlegend=True  # Ensure legend shows up only once per instrument\n",
    ")\n",
    "\n",
    "# Show the figure\n",
    "fig.show()"
   ]
  },
  {
   "cell_type": "code",
   "execution_count": null,
   "metadata": {},
   "outputs": [],
   "source": [
    "fig_ars = ut_v.months_years_heatmap(selected_df, 'datetime', 'Number of ARs per Month and Year', 'Number of ARs')\n",
    "fig_ars.show()\n",
    "\n",
    "fig_fulldisks = ut_v.months_years_heatmap(selected_df.drop_duplicates(subset='path'), 'datetime', 'Number of Fulldisks', 'Number of FDs')\n",
    "fig_fulldisks.show()"
   ]
  },
  {
   "cell_type": "markdown",
   "metadata": {},
   "source": [
    "## Location on Sun"
   ]
  },
  {
   "cell_type": "code",
   "execution_count": 8,
   "metadata": {},
   "outputs": [],
   "source": [
    "def location_on_sun(df, pnt_color='#1f77b4'):\n",
    "    # Convert latitude and longitude to radians\n",
    "    latV = np.deg2rad(df['latitude'])\n",
    "    lonV = np.deg2rad(df['longitude'])\n",
    "\n",
    "    # Convert to y and z coordinates for the plot\n",
    "    yV = np.cos(latV) * np.sin(lonV)\n",
    "    zV = np.sin(latV)\n",
    "\n",
    "    # Prepare the solar disc as a circle\n",
    "    theta = np.linspace(0, 2 * np.pi, 100)\n",
    "    solar_disc_y = np.cos(theta)\n",
    "    solar_disc_z = np.sin(theta)\n",
    "\n",
    "    # Extract additional information for hover text (index and time)\n",
    "    hover_text = [f\"Index: {i}<br>Time: {time}\" for i, time in zip(range(len(selected_df)), selected_df['datetime'])]\n",
    "\n",
    "    # Create the interactive plot\n",
    "    fig = go.Figure()\n",
    "\n",
    "    # Add the solar disc (as a circular boundary)\n",
    "    fig.add_trace(go.Scatter(\n",
    "        x=solar_disc_y, \n",
    "        y=solar_disc_z,\n",
    "        mode='lines',\n",
    "        line=dict(color='gray', width=1),\n",
    "        showlegend=False\n",
    "    ))\n",
    "\n",
    "    # Add ARs locations with hover info\n",
    "    fig.add_trace(go.Scatter(\n",
    "        x=yV, \n",
    "        y=zV,\n",
    "        mode='markers',\n",
    "        marker=dict(size=3, color=pnt_color, opacity=0.7),\n",
    "        text=hover_text,  # Custom hover text (index and time)\n",
    "        hoverinfo='text',  # Display custom text in hover\n",
    "        showlegend=False\n",
    "    ))\n",
    "\n",
    "    # Add meridians and parallels\n",
    "    num_meridians = 12\n",
    "    num_parallels = 12\n",
    "    num_points = 300\n",
    "\n",
    "    phis = np.linspace(0, 2 * np.pi, num_meridians, endpoint=False)  # Angles for meridians\n",
    "    lats = np.linspace(-np.pi/2, np.pi/2, num_parallels)  # Latitude angles (parallels)\n",
    "\n",
    "    # Angles from south to north pole\n",
    "    theta_meridian = np.linspace(-np.pi/2, np.pi/2, num_points)\n",
    "\n",
    "    # Plot each meridian\n",
    "    for phi in phis:\n",
    "        y_meridian = np.cos(theta_meridian) * np.sin(phi)\n",
    "        z_meridian = np.sin(theta_meridian)\n",
    "        fig.add_trace(go.Scatter(\n",
    "            x=y_meridian, \n",
    "            y=z_meridian,\n",
    "            mode='lines',\n",
    "            line=dict(color='black', width=0.2),\n",
    "            showlegend=False\n",
    "        ))\n",
    "\n",
    "    # Plot each parallel\n",
    "    for lat in lats:\n",
    "        radius = np.cos(lat)  # This defines the radius of the latitude circle in the y-z plane\n",
    "        y_parallel = radius * np.sin(theta_meridian)\n",
    "        z_parallel = np.sin(lat) * np.ones(num_points)\n",
    "        fig.add_trace(go.Scatter(\n",
    "            x=y_parallel,\n",
    "            y=z_parallel,\n",
    "            mode='lines',\n",
    "            line=dict(color='black', width=0.2),\n",
    "            showlegend=False\n",
    "        ))\n",
    "\n",
    "    # Update the layout\n",
    "    fig.update_layout(\n",
    "        title='ARs Location on the Sun',\n",
    "        xaxis=dict(showgrid=False, zeroline=False),\n",
    "        yaxis=dict(showgrid=False, zeroline=False),\n",
    "        xaxis_range=[-1.1, 1.1],\n",
    "        yaxis_range=[-1.1, 1.1],\n",
    "        width=800,\n",
    "        height=800,\n",
    "        autosize=False,\n",
    "        hovermode='closest',\n",
    "        margin=dict(l=50, r=50, b=50, t=50),\n",
    "        plot_bgcolor='white', \n",
    "        paper_bgcolor='white'\n",
    "    )\n",
    "\n",
    "    # Set equal aspect ratio\n",
    "    fig.update_yaxes(scaleanchor=\"x\", scaleratio=1)\n",
    "    fig.update_xaxes(showticklabels=False)\n",
    "    fig.update_yaxes(showticklabels=False)\n",
    "\n",
    "    return fig"
   ]
  },
  {
   "cell_type": "code",
   "execution_count": null,
   "metadata": {},
   "outputs": [],
   "source": [
    "sun_location_fig = location_on_sun(selected_df)\n",
    "sun_location_fig.show()"
   ]
  },
  {
   "cell_type": "code",
   "execution_count": null,
   "metadata": {},
   "outputs": [],
   "source": [
    "bins = np.arange(-90, 91, 15)\n",
    "x_ticks = np.arange(-90, 91, 15)\n",
    "x_tick_labels = [f\"{int(x)}°\" for x in x_ticks]\n",
    "\n",
    "fig, axes = plt.subplots(1, 2, figsize=(12, 6))\n",
    "\n",
    "axes[0].hist(selected_df['longitude'], bins=bins, edgecolor='black')\n",
    "axes[0].set_xticks(x_ticks)\n",
    "axes[0].set_xticklabels(x_tick_labels)\n",
    "axes[0].set_xlabel('Degrees')\n",
    "axes[0].set_ylabel('Frequency')\n",
    "axes[0].set_title('Longitude')\n",
    "\n",
    "axes[1].hist(selected_df['latitude'], bins=bins, edgecolor='black')\n",
    "axes[1].set_xticks(x_ticks)\n",
    "axes[1].set_xticklabels(x_tick_labels)\n",
    "axes[1].set_xlabel('Degrees')\n",
    "axes[1].set_ylabel('Frequency')\n",
    "axes[1].set_title('Latitude')\n",
    "\n",
    "# Adjust layout\n",
    "plt.tight_layout()\n",
    "plt.show()"
   ]
  },
  {
   "cell_type": "markdown",
   "metadata": {},
   "source": [
    "## Magnetogram Labels"
   ]
  },
  {
   "cell_type": "code",
   "execution_count": 11,
   "metadata": {},
   "outputs": [],
   "source": [
    "arccnet_path_root = 'arccnet_data/02_intermediate/data/mag'\n",
    "local_path_root = os.path.join(data_folder, dataset_folder)"
   ]
  },
  {
   "cell_type": "code",
   "execution_count": null,
   "metadata": {},
   "outputs": [],
   "source": [
    "idx = 18\n",
    "\n",
    "row = selected_df.iloc[idx]\n",
    "\n",
    "image_path = row['path'].replace(arccnet_path_root, local_path_root)\n",
    "image_labels = selected_df[selected_df['path'] == row['path']]\n",
    "\n",
    "fig, ax = plt.subplots(figsize=(10, 10))\n",
    "\n",
    "with fits.open(image_path) as img_fit:\n",
    "    header = img_fit[1].header\n",
    "    data = np.array(img_fit[1].data, dtype=float)\n",
    "    data = np.nan_to_num(data, nan=0.0)\n",
    "    data = ut_v.hardtanh_transform_npy(data)\n",
    "    crota2 = header['CROTA2']\n",
    "    data = rotate(data, crota2, reshape=False, mode='constant', cval=0)  # `reshape=False` to maintain image size\n",
    "    ax.imshow(data, origin='lower', cmap=ut_v.magnetic_map, vmin=-1, vmax=1)\n",
    "    for _, label_row in image_labels.iterrows():\n",
    "        x_min, y_min = label_row['bottom_left_cutout']\n",
    "        x_max, y_max = label_row['top_right_cutout']\n",
    "\n",
    "        width = x_max - x_min\n",
    "        height = y_max - y_min\n",
    "\n",
    "        rect = Rectangle(\n",
    "            (x_min, y_min),  # (x, y)\n",
    "            width,\n",
    "            height,\n",
    "            linewidth=2,\n",
    "            edgecolor='red',\n",
    "            facecolor='none'\n",
    "        )\n",
    "        \n",
    "        ax.add_patch(rect)\n",
    "\n",
    "        label_text = label_row['magnetic_class']  \n",
    "        center_x = (x_min + x_max) / 2\n",
    "\n",
    "        ax.text(\n",
    "            center_x, y_max + 5, \n",
    "            label_text,  \n",
    "            color='white', \n",
    "            fontsize=10, \n",
    "            ha='center', \n",
    "            va='bottom',  \n",
    "            bbox=dict(facecolor='black', alpha=0.5)\n",
    "        )\n",
    "    ax.set_title(row['datetime'])\n",
    "plt.show()"
   ]
  },
  {
   "cell_type": "code",
   "execution_count": null,
   "metadata": {},
   "outputs": [],
   "source": [
    "with fits.open(image_path) as img_fit:\n",
    "    data = img_fit[1].data \n",
    "    header = img_fit[1].header \n",
    "\n",
    "    sunpy_map = sunpy.map.Map(data, header)\n",
    "\n",
    "    # Generate a grid of coordinates for each pixel\n",
    "    x, y = np.meshgrid(np.arange(sunpy_map.data.shape[1]), np.arange(sunpy_map.data.shape[0]))\n",
    "    coordinates = sunpy_map.pixel_to_world(x * u.pix, y * u.pix)\n",
    "\n",
    "    # Check if the coordinates are on the solar disk\n",
    "    on_disk = coordinates.separation(sunpy_map.reference_coordinate) <= sunpy.map.solar_angular_radius(coordinates)\n",
    "\n",
    "    # Mask data that is outside the solar disk\n",
    "    sunpy_map.data[~on_disk] = np.nan  # Set off-disk pixels to NaN\n",
    "sunpy_map"
   ]
  },
  {
   "cell_type": "code",
   "execution_count": null,
   "metadata": {},
   "outputs": [],
   "source": [
    "# Extract CROTA2 value from the header\n",
    "crota2 = sunpy_map.meta.get('CROTA2', 0)  # Default to 0 if CROTA2 is not present\n",
    "\n",
    "# Apply the rotation based on the CROTA2 value\n",
    "rotated_map = sunpy_map.rotate(angle=-crota2 * u.deg)  # Apply the rotation, -CROTA2 to align it correctly\n",
    "\n",
    "# Plot the rotated map\n",
    "fig = plt.figure(figsize=(8, 8))\n",
    "ax = fig.add_subplot(projection=rotated_map)\n",
    "\n",
    "# Plot the map with the adjusted rotation\n",
    "rotated_map.plot(axes=ax, cmap='hmimag')\n",
    "\n",
    "# Draw grid if needed\n",
    "rotated_map.draw_grid(axes=ax)\n",
    "\n",
    "for _, label_row in image_labels.iterrows():\n",
    "        x_min, y_min = label_row['bottom_left_cutout']\n",
    "        x_max, y_max = label_row['top_right_cutout']\n",
    "\n",
    "        width = x_max - x_min\n",
    "        height = y_max - y_min\n",
    "\n",
    "        rect = Rectangle(\n",
    "            (x_min, y_min),  # (x, y)\n",
    "            width,\n",
    "            height,\n",
    "            linewidth=2,\n",
    "            edgecolor='red',\n",
    "            facecolor='none'\n",
    "        )\n",
    "        \n",
    "        ax.add_patch(rect)\n",
    "\n",
    "        label_text = label_row['magnetic_class']  \n",
    "        center_x = (x_min + x_max) / 2\n",
    "\n",
    "        ax.text(\n",
    "            center_x, y_max + 5, \n",
    "            label_text,  \n",
    "            color='white', \n",
    "            fontsize=10, \n",
    "            ha='center', \n",
    "            va='bottom',  \n",
    "            bbox=dict(facecolor='black', alpha=0.5)\n",
    "        )\n",
    "\n",
    "plt.show()"
   ]
  },
  {
   "cell_type": "code",
   "execution_count": null,
   "metadata": {},
   "outputs": [],
   "source": [
    "image_labels"
   ]
  },
  {
   "cell_type": "markdown",
   "metadata": {},
   "source": [
    "## Cutout Sizes"
   ]
  },
  {
   "cell_type": "code",
   "execution_count": null,
   "metadata": {},
   "outputs": [],
   "source": [
    "ut_v.w_h_scatterplot(selected_df)"
   ]
  },
  {
   "cell_type": "code",
   "execution_count": null,
   "metadata": {},
   "outputs": [],
   "source": [
    "widths, heights, _, _ = ut_v.compute_widths_heights(selected_df)\n",
    "\n",
    "aspect_ratios = np.array(widths) / np.array(heights)\n",
    "\n",
    "hist_fig = go.Figure()\n",
    "\n",
    "# Add a histogram trace for aspect ratios\n",
    "hist_fig.add_trace(go.Histogram(\n",
    "    x=aspect_ratios,\n",
    "    nbinsx=50,  \n",
    "    marker=dict(color='blue'),\n",
    "    opacity=0.75\n",
    "))\n",
    "\n",
    "# Update the layout for the histogram\n",
    "hist_fig.update_layout(\n",
    "    title='Aspect Ratios',\n",
    "    xaxis_title='Aspect Ratio (Width/Height)',\n",
    "    yaxis_title='Count',\n",
    "    autosize=True\n",
    ")\n",
    "\n",
    "# Show the histogram\n",
    "hist_fig.show()"
   ]
  },
  {
   "cell_type": "markdown",
   "metadata": {},
   "source": [
    "# Clean up dataset"
   ]
  },
  {
   "cell_type": "markdown",
   "metadata": {},
   "source": [
    "### Filter out ARs beyond limb"
   ]
  },
  {
   "cell_type": "code",
   "execution_count": 18,
   "metadata": {},
   "outputs": [],
   "source": [
    "lon_trshld = 70\n",
    "front_df = selected_df[(selected_df['longitude'] < lon_trshld) & (selected_df['longitude'] > -lon_trshld)]\n",
    "back_df = selected_df[(selected_df['longitude'] >= lon_trshld) | (selected_df['longitude'] <= -lon_trshld)]\n"
   ]
  },
  {
   "cell_type": "code",
   "execution_count": null,
   "metadata": {},
   "outputs": [],
   "source": [
    "front_fig = ut_v.location_on_sun(front_df)\n",
    "combined_fig = ut_v.location_on_sun(back_df, fig=front_fig, color='darkorange')\n",
    "combined_fig.show()"
   ]
  },
  {
   "cell_type": "code",
   "execution_count": null,
   "metadata": {},
   "outputs": [],
   "source": [
    "ut_v.w_h_scatterplot(front_df)"
   ]
  },
  {
   "cell_type": "code",
   "execution_count": 21,
   "metadata": {},
   "outputs": [],
   "source": [
    "min_size = 0.024\n",
    "img_size_dic = {\n",
    "    'MDI': 1024,\n",
    "    'HMI': 4096}\n",
    "\n",
    "cleaned_df = front_df.copy()\n",
    "for idx, row in cleaned_df.iterrows():\n",
    "    x_min, y_min = row['bottom_left_cutout']\n",
    "    x_max, y_max = row['top_right_cutout']\n",
    "\n",
    "    img_sz = img_size_dic.get(row['instrument'])\n",
    "    width = (x_max - x_min) / img_sz\n",
    "    height = (y_max - y_min) / img_sz\n",
    "    \n",
    "    cleaned_df.at[idx, 'width'] = width\n",
    "    cleaned_df.at[idx, 'height'] = height\n",
    "\n",
    "cleaned_df = cleaned_df[(cleaned_df['width'] >= min_size) & (cleaned_df['height'] >= min_size)]"
   ]
  },
  {
   "cell_type": "code",
   "execution_count": null,
   "metadata": {},
   "outputs": [],
   "source": [
    "ut_v.plot_fd(cleaned_df.iloc[1627], cleaned_df, local_path_root)"
   ]
  },
  {
   "cell_type": "code",
   "execution_count": null,
   "metadata": {},
   "outputs": [],
   "source": [
    "ut_v.w_h_scatterplot(cleaned_df)"
   ]
  },
  {
   "cell_type": "code",
   "execution_count": null,
   "metadata": {},
   "outputs": [],
   "source": []
  }
 ],
 "metadata": {
  "kernelspec": {
   "display_name": "ARCAFF",
   "language": "python",
   "name": "python3"
  },
  "language_info": {
   "codemirror_mode": {
    "name": "ipython",
    "version": 3
   },
   "file_extension": ".py",
   "mimetype": "text/x-python",
   "name": "python",
   "nbconvert_exporter": "python",
   "pygments_lexer": "ipython3",
   "version": "3.10.14"
  }
 },
 "nbformat": 4,
 "nbformat_minor": 2
}
